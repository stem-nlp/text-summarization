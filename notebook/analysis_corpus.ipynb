{
 "cells": [
  {
   "cell_type": "markdown",
   "metadata": {},
   "source": [
    "# 语料数据分析"
   ]
  },
  {
   "cell_type": "code",
   "execution_count": 1,
   "metadata": {},
   "outputs": [],
   "source": [
    "import os\n",
    "import jieba\n",
    "import numpy as np\n",
    "import pandas as pd\n",
    "import matplotlib.pyplot as plt"
   ]
  },
  {
   "cell_type": "code",
   "execution_count": 2,
   "metadata": {},
   "outputs": [],
   "source": [
    "%matplotlib inline"
   ]
  },
  {
   "cell_type": "code",
   "execution_count": 3,
   "metadata": {},
   "outputs": [],
   "source": [
    "BASE_DIR = os.path.dirname(os.path.dirname(os.path.abspath('__file__')))\n",
    "NEWS_DATASET_PATH = os.path.join(BASE_DIR, 'text_summ/datasets/sqlResult_1558435.csv')"
   ]
  },
  {
   "cell_type": "code",
   "execution_count": 4,
   "metadata": {},
   "outputs": [
    {
     "data": {
      "text/plain": [
       "'/Users/hotbaby/code/github/text-summarization'"
      ]
     },
     "execution_count": 4,
     "metadata": {},
     "output_type": "execute_result"
    }
   ],
   "source": [
    "BASE_DIR"
   ]
  },
  {
   "cell_type": "markdown",
   "metadata": {},
   "source": [
    "## 新闻语料数据"
   ]
  },
  {
   "cell_type": "code",
   "execution_count": 5,
   "metadata": {},
   "outputs": [],
   "source": [
    "news_dataset = pd.read_csv(NEWS_DATASET_PATH)"
   ]
  },
  {
   "cell_type": "code",
   "execution_count": 6,
   "metadata": {},
   "outputs": [
    {
     "data": {
      "text/html": [
       "<div>\n",
       "<style scoped>\n",
       "    .dataframe tbody tr th:only-of-type {\n",
       "        vertical-align: middle;\n",
       "    }\n",
       "\n",
       "    .dataframe tbody tr th {\n",
       "        vertical-align: top;\n",
       "    }\n",
       "\n",
       "    .dataframe thead th {\n",
       "        text-align: right;\n",
       "    }\n",
       "</style>\n",
       "<table border=\"1\" class=\"dataframe\">\n",
       "  <thead>\n",
       "    <tr style=\"text-align: right;\">\n",
       "      <th></th>\n",
       "      <th>id</th>\n",
       "      <th>author</th>\n",
       "      <th>source</th>\n",
       "      <th>content</th>\n",
       "      <th>feature</th>\n",
       "      <th>title</th>\n",
       "      <th>url</th>\n",
       "    </tr>\n",
       "  </thead>\n",
       "  <tbody>\n",
       "    <tr>\n",
       "      <th>0</th>\n",
       "      <td>89617</td>\n",
       "      <td>NaN</td>\n",
       "      <td>快科技@http://www.kkj.cn/</td>\n",
       "      <td>此外，自本周（6月12日）起，除小米手机6等15款机型外，其余机型已暂停更新发布（含开发版/...</td>\n",
       "      <td>{\"type\":\"科技\",\"site\":\"cnbeta\",\"commentNum\":\"37\"...</td>\n",
       "      <td>小米MIUI 9首批机型曝光：共计15款</td>\n",
       "      <td>http://www.cnbeta.com/articles/tech/623597.htm</td>\n",
       "    </tr>\n",
       "    <tr>\n",
       "      <th>1</th>\n",
       "      <td>89616</td>\n",
       "      <td>NaN</td>\n",
       "      <td>快科技@http://www.kkj.cn/</td>\n",
       "      <td>骁龙835作为唯一通过Windows 10桌面平台认证的ARM处理器，高通强调，不会因为只考...</td>\n",
       "      <td>{\"type\":\"科技\",\"site\":\"cnbeta\",\"commentNum\":\"15\"...</td>\n",
       "      <td>骁龙835在Windows 10上的性能表现有望改善</td>\n",
       "      <td>http://www.cnbeta.com/articles/tech/623599.htm</td>\n",
       "    </tr>\n",
       "    <tr>\n",
       "      <th>2</th>\n",
       "      <td>89615</td>\n",
       "      <td>NaN</td>\n",
       "      <td>快科技@http://www.kkj.cn/</td>\n",
       "      <td>此前的一加3T搭载的是3400mAh电池，DashCharge快充规格为5V/4A。\\n至于...</td>\n",
       "      <td>{\"type\":\"科技\",\"site\":\"cnbeta\",\"commentNum\":\"18\"...</td>\n",
       "      <td>一加手机5细节曝光：3300mAh、充半小时用1天</td>\n",
       "      <td>http://www.cnbeta.com/articles/tech/623601.htm</td>\n",
       "    </tr>\n",
       "  </tbody>\n",
       "</table>\n",
       "</div>"
      ],
      "text/plain": [
       "      id author                  source  \\\n",
       "0  89617    NaN  快科技@http://www.kkj.cn/   \n",
       "1  89616    NaN  快科技@http://www.kkj.cn/   \n",
       "2  89615    NaN  快科技@http://www.kkj.cn/   \n",
       "\n",
       "                                             content  \\\n",
       "0  此外，自本周（6月12日）起，除小米手机6等15款机型外，其余机型已暂停更新发布（含开发版/...   \n",
       "1  骁龙835作为唯一通过Windows 10桌面平台认证的ARM处理器，高通强调，不会因为只考...   \n",
       "2  此前的一加3T搭载的是3400mAh电池，DashCharge快充规格为5V/4A。\\n至于...   \n",
       "\n",
       "                                             feature  \\\n",
       "0  {\"type\":\"科技\",\"site\":\"cnbeta\",\"commentNum\":\"37\"...   \n",
       "1  {\"type\":\"科技\",\"site\":\"cnbeta\",\"commentNum\":\"15\"...   \n",
       "2  {\"type\":\"科技\",\"site\":\"cnbeta\",\"commentNum\":\"18\"...   \n",
       "\n",
       "                        title                                             url  \n",
       "0        小米MIUI 9首批机型曝光：共计15款  http://www.cnbeta.com/articles/tech/623597.htm  \n",
       "1  骁龙835在Windows 10上的性能表现有望改善  http://www.cnbeta.com/articles/tech/623599.htm  \n",
       "2   一加手机5细节曝光：3300mAh、充半小时用1天  http://www.cnbeta.com/articles/tech/623601.htm  "
      ]
     },
     "execution_count": 6,
     "metadata": {},
     "output_type": "execute_result"
    }
   ],
   "source": [
    "news_dataset.head(3)"
   ]
  },
  {
   "cell_type": "markdown",
   "metadata": {},
   "source": [
    "News datasets features"
   ]
  },
  {
   "cell_type": "code",
   "execution_count": 7,
   "metadata": {},
   "outputs": [],
   "source": [
    "import json"
   ]
  },
  {
   "cell_type": "code",
   "execution_count": 8,
   "metadata": {},
   "outputs": [],
   "source": [
    "features = news_dataset['feature']\n",
    "\n",
    "feature_json = []\n",
    "for feature in features:\n",
    "    feature_json.append(json.loads(feature))\n",
    "\n",
    "news_features = pd.DataFrame(feature_json)"
   ]
  },
  {
   "cell_type": "code",
   "execution_count": 9,
   "metadata": {},
   "outputs": [
    {
     "data": {
      "text/html": [
       "<div>\n",
       "<style scoped>\n",
       "    .dataframe tbody tr th:only-of-type {\n",
       "        vertical-align: middle;\n",
       "    }\n",
       "\n",
       "    .dataframe tbody tr th {\n",
       "        vertical-align: top;\n",
       "    }\n",
       "\n",
       "    .dataframe thead th {\n",
       "        text-align: right;\n",
       "    }\n",
       "</style>\n",
       "<table border=\"1\" class=\"dataframe\">\n",
       "  <thead>\n",
       "    <tr style=\"text-align: right;\">\n",
       "      <th></th>\n",
       "      <th>all_type</th>\n",
       "      <th>clickNum</th>\n",
       "      <th>commentNum</th>\n",
       "      <th>favoriteNum</th>\n",
       "      <th>forwardNum</th>\n",
       "      <th>id</th>\n",
       "      <th>imgUrls</th>\n",
       "      <th>is_hot</th>\n",
       "      <th>issuing_department</th>\n",
       "      <th>joinNum</th>\n",
       "      <th>...</th>\n",
       "      <th>related_areas</th>\n",
       "      <th>reported_area</th>\n",
       "      <th>rich_label</th>\n",
       "      <th>shareNum</th>\n",
       "      <th>site</th>\n",
       "      <th>site_sign</th>\n",
       "      <th>summary</th>\n",
       "      <th>type</th>\n",
       "      <th>url</th>\n",
       "      <th>word_count</th>\n",
       "    </tr>\n",
       "  </thead>\n",
       "  <tbody>\n",
       "    <tr>\n",
       "      <th>0</th>\n",
       "      <td>NaN</td>\n",
       "      <td>19920</td>\n",
       "      <td>37</td>\n",
       "      <td>NaN</td>\n",
       "      <td>NaN</td>\n",
       "      <td>NaN</td>\n",
       "      <td>http://static.cnbetacdn.com/thumb/mini/article...</td>\n",
       "      <td>2</td>\n",
       "      <td>NaN</td>\n",
       "      <td>20007</td>\n",
       "      <td>...</td>\n",
       "      <td>NaN</td>\n",
       "      <td>NaN</td>\n",
       "      <td>NaN</td>\n",
       "      <td>0</td>\n",
       "      <td>cnbeta</td>\n",
       "      <td>cnbeta</td>\n",
       "      <td>MIUI 9或许真的要来了！日前，微博数码博主@罗逸文V曝光了MIUI9首批支持机型，共有1...</td>\n",
       "      <td>科技</td>\n",
       "      <td>http://www.cnbeta.com/articles/tech/623597.htm</td>\n",
       "      <td>NaN</td>\n",
       "    </tr>\n",
       "  </tbody>\n",
       "</table>\n",
       "<p>1 rows × 26 columns</p>\n",
       "</div>"
      ],
      "text/plain": [
       "  all_type clickNum commentNum favoriteNum forwardNum   id  \\\n",
       "0      NaN    19920         37         NaN        NaN  NaN   \n",
       "\n",
       "                                             imgUrls is_hot  \\\n",
       "0  http://static.cnbetacdn.com/thumb/mini/article...      2   \n",
       "\n",
       "  issuing_department joinNum  ... related_areas reported_area rich_label  \\\n",
       "0                NaN   20007  ...           NaN           NaN        NaN   \n",
       "\n",
       "  shareNum    site site_sign  \\\n",
       "0        0  cnbeta    cnbeta   \n",
       "\n",
       "                                             summary type  \\\n",
       "0  MIUI 9或许真的要来了！日前，微博数码博主@罗逸文V曝光了MIUI9首批支持机型，共有1...   科技   \n",
       "\n",
       "                                              url word_count  \n",
       "0  http://www.cnbeta.com/articles/tech/623597.htm        NaN  \n",
       "\n",
       "[1 rows x 26 columns]"
      ]
     },
     "execution_count": 9,
     "metadata": {},
     "output_type": "execute_result"
    }
   ],
   "source": [
    "news_features.head(1)"
   ]
  },
  {
   "cell_type": "code",
   "execution_count": 10,
   "metadata": {},
   "outputs": [
    {
     "name": "stdout",
     "output_type": "stream",
     "text": [
      "骁龙835作为唯一通过Windows 10桌面平台认证的ARM处理器，高通强调，不会因为只考虑性能而去屏蔽掉小核心。相反，他们正联手微软，找到一种适合桌面平台的、兼顾性能和功耗的完美方案。\n",
      "报道称，微软已经拿到了一些新的源码，以便Windows 10更好地理解big.little架构。\n",
      "资料显示，骁龙835作为一款集成了CPU、GPU、基带、蓝牙/Wi-Fi的SoC，比传统的Wintel方案可以节省至少30%的PCB空间。\n",
      "按计划，今年Q4，华硕、惠普、联想将首发骁龙835 Win10电脑，预计均是二合一形态的产品。\n",
      "当然，高通骁龙只是个开始，未来也许还能见到三星Exynos、联发科、华为麒麟、小米澎湃等进入Windows 10桌面平台。\n",
      "\n"
     ]
    }
   ],
   "source": [
    "print(news_dataset['content'][1])"
   ]
  },
  {
   "cell_type": "code",
   "execution_count": 11,
   "metadata": {},
   "outputs": [
    {
     "name": "stdout",
     "output_type": "stream",
     "text": [
      "尽管Intel最近以“涉嫌侵权”不点名批评微软和高通合作在骁龙835/820平台上实现对x86的模拟，但微软已经表示不会受影响，将为了广大消费者把此事做好。据外媒报道，微软最新的动态揭示，他们正在精益求精。为了平衡功耗，big.little架构在移动处理器上非常常见，这对习惯了Intel/AMD x86的Windows来说，是个新鲜事物。\n"
     ]
    }
   ],
   "source": [
    "print(news_features['summary'][1])"
   ]
  },
  {
   "cell_type": "code",
   "execution_count": 12,
   "metadata": {},
   "outputs": [
    {
     "data": {
      "text/plain": [
       "id                                                         1\n",
       "author                                                王子江 张寒\n",
       "source                                                   新华社\n",
       "content    　　新华社德国杜塞尔多夫６月６日电题：乒乓女球迷　\\n　　新华社记者王子江、张寒\\n　　熊老...\n",
       "feature    {\"type\":\"体育\",\"site\":\"新华社\",\"url\":\"http://home.x...\n",
       "title                                           （体育）题：乒乓女球迷　\n",
       "url        http://home.xinhua-news.com/gdsdetailxhsnew/22...\n",
       "Name: 89610, dtype: object"
      ]
     },
     "execution_count": 12,
     "metadata": {},
     "output_type": "execute_result"
    }
   ],
   "source": [
    "news_dataset.iloc[-1]"
   ]
  },
  {
   "cell_type": "code",
   "execution_count": 13,
   "metadata": {},
   "outputs": [
    {
     "data": {
      "text/plain": [
       "'（体育）题：乒乓女球迷\\u3000'"
      ]
     },
     "execution_count": 13,
     "metadata": {},
     "output_type": "execute_result"
    }
   ],
   "source": [
    "news_dataset['title'].iloc[-1]"
   ]
  },
  {
   "cell_type": "code",
   "execution_count": 14,
   "metadata": {},
   "outputs": [
    {
     "name": "stdout",
     "output_type": "stream",
     "text": [
      "　　新华社德国杜塞尔多夫６月６日电题：乒乓女球迷　\n",
      "　　新华社记者王子江、张寒\n",
      "　　熊老师离开上海前，特意花一千多元买了一只张继科代言的球拍，准备在世界锦标赛期间他赢了比赛后，能在球拍上签个名。但没想到张继科在３２强赛中，输给了韩国的李尚洙。\n",
      "　　“拍子算是白拿过来了。”熊老师摇头，“就算是信仰充值了。”\n",
      "　　“信仰充值”是乒乓球粉丝圈非常流行的词汇，简单来说，就是为自己喜欢的明星或球队花钱。\n",
      "　　“熊老师”是这位２２岁的成都姑娘的“艺名”，“艺名”这一称呼也是她们自己形容的。熊老师的真实身份是上海一所名牌大学会计专业的大四学生，其他同学正在抓紧毕业找工作，她一个人溜到德国观看世乒赛。尽管带着张继科的球拍，但熊老师并不是张的铁粉，她并不喜欢张继科输了比赛之后，一堆“科迷”在赛场外抱头痛哭的场景，而显得比较理智。但是因为“科迷”数量众多，让她这种散户，也有些说不出的羡慕。\n",
      "　　“他们竟然连续两天买断了一面看台上所有的门票，为的是挂起带有张继科名字的旗子，两天就要花４、５万人民币。”熊老师直喊过分。\n",
      "　　熊老师与其他１０名中国队女球迷挤在一套三居室里，厨房的柜子里塞了很多方便面。至少三个人挤在一个房间里，条件的确差了点，但住宿费平摊下来每天只有大约２００元人民币，这样让大家心里平衡了很多。\n",
      "　　房间里的所有人都是在网上认识的，大家也并不全知道对方真实的姓名和身份。“我们都用艺名。”来自广州的茶茶说。茶茶已经工作了几年，这次也是利用假期出来的。\n",
      "　　所有人都是提前大约半年从国际乒联的官网上买了比赛的通票，可以观看全程所有的比赛，票价大约两千块人民币。５月底６月初并不是旅游旺季，机票也不是太贵，这让她们都很庆幸。\n",
      "　　里面最幸运的应该是井井，她这次来的身份是一家时尚媒体的记者，她申请到了记者证，每天背着一个大相机在场地里边拍照边看球。她提前大约一个星期就来到了德国，比赛开始前她去附近几个城市玩了玩，这一趟世乒赛之旅非常充实。\n",
      "　　十几个人中最不像球迷的是一位来自香港的女大学生，看上去文静内向，其他人都叫她香港妹。香港妹与熊老师一样，都是学的会计专业。她告诉父母这次出来是到德国看朋友，住宿和球票的花费都是平时做家教挣的，父母支援了机票钱，从香港到杜塞尔多夫往返只有三千多元人民币，让其他内地球迷非常羡慕。\n",
      "　　香港妹以前并不懂乒乓球，去年里约奥运会时，一家人边吃饭边看电视，正好电视直播乒乓球比赛，从此她就成了中国队的球迷。\n",
      "　　香港妹更让人羡慕的还是来德国不用签证，不过熊老师也欣慰地说，这次有了德国的签证，以后去日本看比赛签证就容易多了。\n",
      "　　这些女孩子大部分都是第一次出国，以前都是在国内看比赛，熊老师自称这几年甚至到过一些非常奇葩的赛场，去年一个比赛在东北某城市举行，由于赛场过于偏僻，她在手机上点了外卖，最后却被强制退单，她饿着肚子看完了比赛。\n",
      "　　女球迷们每天早出晚归，看完比赛回来有时候近半夜，回来之后还要互相交流当天的看球感想，十几个女孩子叽叽喳喳，吵得楼上一个德国老太太下来敲门，让她们保持安静，但她们聊着聊着仍然不自觉嗓门就大起来。\n",
      "　　世乒赛闭幕那天晚上，她们在餐馆里吃了顿散伙饭。中国队拿了４个冠军，但每个人的心情不一样，因为她们支持的偶像并不完全相同。好几人支持刘诗雯，但她在女单半决赛就输了。“小伙伴们一起丧了很久。”井井在朋友圈里说。\n",
      "　　告别的那天，大家不约而同在朋友圈里晒了聚餐的照片，伤感地告别。\n",
      "　　“走了，杜塞尔多夫。”井井说。\n",
      "　　“在这呆了一个星期，要走了还是有点不舍得，都还没好好看看这个城市，再见啦，杜塞。”茶茶说。\n",
      "　　熊老师最后一条朋友圈发的是丁宁和刘诗雯赢得女双冠军的照片。\n",
      "　　“懂事之前，情动以后，长不过一天。留不住，算不出，流年。”她写道。（完）\n",
      "\n"
     ]
    }
   ],
   "source": [
    "content = news_dataset['content'].iloc[-1]\n",
    "print('\\n'.join(content.split('\\\\n')))"
   ]
  },
  {
   "cell_type": "code",
   "execution_count": 15,
   "metadata": {},
   "outputs": [
    {
     "name": "stdout",
     "output_type": "stream",
     "text": [
      "（体育）题：乒乓女球迷　\n"
     ]
    }
   ],
   "source": [
    "print(news_dataset['title'].iloc[-1])"
   ]
  },
  {
   "cell_type": "code",
   "execution_count": 16,
   "metadata": {},
   "outputs": [
    {
     "name": "stdout",
     "output_type": "stream",
     "text": [
      "　　新华社德国杜塞尔多夫６月６日电 题：乒乓女球迷　 　　新华社记者王子江、张寒 　　熊老师离开上海前，特意花一千多元买了一只张继科代言的球拍，准备在世界锦标赛期间他赢了比赛后，能在球拍上签个名。但没想到张继科在３２强赛中，输给了韩国的李尚洙。 　　“拍子算是\n"
     ]
    }
   ],
   "source": [
    "print(news_features['summary'].iloc[-1])"
   ]
  },
  {
   "cell_type": "markdown",
   "metadata": {},
   "source": [
    "### 清洗数据"
   ]
  },
  {
   "cell_type": "code",
   "execution_count": 17,
   "metadata": {},
   "outputs": [
    {
     "data": {
      "text/html": [
       "<div>\n",
       "<style scoped>\n",
       "    .dataframe tbody tr th:only-of-type {\n",
       "        vertical-align: middle;\n",
       "    }\n",
       "\n",
       "    .dataframe tbody tr th {\n",
       "        vertical-align: top;\n",
       "    }\n",
       "\n",
       "    .dataframe thead th {\n",
       "        text-align: right;\n",
       "    }\n",
       "</style>\n",
       "<table border=\"1\" class=\"dataframe\">\n",
       "  <thead>\n",
       "    <tr style=\"text-align: right;\">\n",
       "      <th></th>\n",
       "      <th>id</th>\n",
       "      <th>author</th>\n",
       "      <th>source</th>\n",
       "      <th>content</th>\n",
       "      <th>feature</th>\n",
       "      <th>title</th>\n",
       "      <th>url</th>\n",
       "    </tr>\n",
       "  </thead>\n",
       "  <tbody>\n",
       "    <tr>\n",
       "      <th>0</th>\n",
       "      <td>89617</td>\n",
       "      <td>NaN</td>\n",
       "      <td>快科技@http://www.kkj.cn/</td>\n",
       "      <td>此外，自本周（6月12日）起，除小米手机6等15款机型外，其余机型已暂停更新发布（含开发版/...</td>\n",
       "      <td>{\"type\":\"科技\",\"site\":\"cnbeta\",\"commentNum\":\"37\"...</td>\n",
       "      <td>小米MIUI 9首批机型曝光：共计15款</td>\n",
       "      <td>http://www.cnbeta.com/articles/tech/623597.htm</td>\n",
       "    </tr>\n",
       "    <tr>\n",
       "      <th>1</th>\n",
       "      <td>89616</td>\n",
       "      <td>NaN</td>\n",
       "      <td>快科技@http://www.kkj.cn/</td>\n",
       "      <td>骁龙835作为唯一通过Windows 10桌面平台认证的ARM处理器，高通强调，不会因为只考...</td>\n",
       "      <td>{\"type\":\"科技\",\"site\":\"cnbeta\",\"commentNum\":\"15\"...</td>\n",
       "      <td>骁龙835在Windows 10上的性能表现有望改善</td>\n",
       "      <td>http://www.cnbeta.com/articles/tech/623599.htm</td>\n",
       "    </tr>\n",
       "    <tr>\n",
       "      <th>2</th>\n",
       "      <td>89615</td>\n",
       "      <td>NaN</td>\n",
       "      <td>快科技@http://www.kkj.cn/</td>\n",
       "      <td>此前的一加3T搭载的是3400mAh电池，DashCharge快充规格为5V/4A。\\n至于...</td>\n",
       "      <td>{\"type\":\"科技\",\"site\":\"cnbeta\",\"commentNum\":\"18\"...</td>\n",
       "      <td>一加手机5细节曝光：3300mAh、充半小时用1天</td>\n",
       "      <td>http://www.cnbeta.com/articles/tech/623601.htm</td>\n",
       "    </tr>\n",
       "  </tbody>\n",
       "</table>\n",
       "</div>"
      ],
      "text/plain": [
       "      id author                  source  \\\n",
       "0  89617    NaN  快科技@http://www.kkj.cn/   \n",
       "1  89616    NaN  快科技@http://www.kkj.cn/   \n",
       "2  89615    NaN  快科技@http://www.kkj.cn/   \n",
       "\n",
       "                                             content  \\\n",
       "0  此外，自本周（6月12日）起，除小米手机6等15款机型外，其余机型已暂停更新发布（含开发版/...   \n",
       "1  骁龙835作为唯一通过Windows 10桌面平台认证的ARM处理器，高通强调，不会因为只考...   \n",
       "2  此前的一加3T搭载的是3400mAh电池，DashCharge快充规格为5V/4A。\\n至于...   \n",
       "\n",
       "                                             feature  \\\n",
       "0  {\"type\":\"科技\",\"site\":\"cnbeta\",\"commentNum\":\"37\"...   \n",
       "1  {\"type\":\"科技\",\"site\":\"cnbeta\",\"commentNum\":\"15\"...   \n",
       "2  {\"type\":\"科技\",\"site\":\"cnbeta\",\"commentNum\":\"18\"...   \n",
       "\n",
       "                        title                                             url  \n",
       "0        小米MIUI 9首批机型曝光：共计15款  http://www.cnbeta.com/articles/tech/623597.htm  \n",
       "1  骁龙835在Windows 10上的性能表现有望改善  http://www.cnbeta.com/articles/tech/623599.htm  \n",
       "2   一加手机5细节曝光：3300mAh、充半小时用1天  http://www.cnbeta.com/articles/tech/623601.htm  "
      ]
     },
     "execution_count": 17,
     "metadata": {},
     "output_type": "execute_result"
    }
   ],
   "source": [
    "news_dataset.head(3)"
   ]
  },
  {
   "cell_type": "code",
   "execution_count": 18,
   "metadata": {},
   "outputs": [],
   "source": [
    "title_conent_df = news_dataset.loc[:, ['title', 'content']]"
   ]
  },
  {
   "cell_type": "code",
   "execution_count": 123,
   "metadata": {},
   "outputs": [],
   "source": [
    "import re\n",
    "\n",
    "def strip_str(string):\n",
    "    strip_symbols = ['，', '。', '《', '》', ' ', '!', '！' '、', '.', '；', '~', \n",
    "                     '、', '”', '“', ';', '%', '\\n', '\\\\n', '（', '）', '/', '——',\n",
    "                    '：']\n",
    "    # TODO 处理 \\u3000\n",
    "    for symbol in strip_symbols:\n",
    "        string = string.replace(symbol, '')\n",
    "\n",
    "    return re.sub(re.compile(r'\\\\u\\d{4}'), '', '%r' % string)[2:-2]"
   ]
  },
  {
   "cell_type": "code",
   "execution_count": 66,
   "metadata": {},
   "outputs": [
    {
     "data": {
      "text/plain": [
       "'\\u3000\\u3000新华社德国杜塞尔多夫６月６日电题乒乓女球迷\\u3000\\u3000\\u3000新华社记者王子江张寒\\u3000\\u3000熊老师离开上海前特意花一千多元买了一只张继科代言的球拍准备在世界锦标赛期间他赢了比赛后能在球拍上签个名但没想到张继科在３２强赛中输给了韩国的李尚洙\\u3000\\u3000拍子算是白拿过来了熊老师摇头就算是信仰充值了\\u3000\\u3000信仰充值是乒乓球粉丝圈非常流行的词汇简单来说就是为自己喜欢的明星或球队花钱\\u3000\\u3000熊老师是这位２２岁的成都姑娘的艺名艺名这一称呼也是她们自己形容的熊老师的真实身份是上海一所名牌大学会计专业的大四学生其他同学正在抓紧毕业找工作她一个人溜到德国观看世乒赛尽管带着张继科的球拍但熊老师并不是张的铁粉她并不喜欢张继科输了比赛之后一堆科迷在赛场外抱头痛哭的场景而显得比较理智但是因为科迷数量众多让她这种散户也有些说不出的羡慕\\u3000\\u3000他们竟然连续两天买断了一面看台上所有的门票为的是挂起带有张继科名字的旗子两天就要花４５万人民币熊老师直喊过分\\u3000\\u3000熊老师与其他１０名中国队女球迷挤在一套三居室里厨房的柜子里塞了很多方便面至少三个人挤在一个房间里条件的确差了点但住宿费平摊下来每天只有大约２００元人民币这样让大家心里平衡了很多\\u3000\\u3000房间里的所有人都是在网上认识的大家也并不全知道对方真实的姓名和身份我们都用艺名来自广州的茶茶说茶茶已经工作了几年这次也是利用假期出来的\\u3000\\u3000所有人都是提前大约半年从国际乒联的官网上买了比赛的通票可以观看全程所有的比赛票价大约两千块人民币５月底６月初并不是旅游旺季机票也不是太贵这让她们都很庆幸\\u3000\\u3000里面最幸运的应该是井井她这次来的身份是一家时尚媒体的记者她申请到了记者证每天背着一个大相机在场地里边拍照边看球她提前大约一个星期就来到了德国比赛开始前她去附近几个城市玩了玩这一趟世乒赛之旅非常充实\\u3000\\u3000十几个人中最不像球迷的是一位来自香港的女大学生看上去文静内向其他人都叫她香港妹香港妹与熊老师一样都是学的会计专业她告诉父母这次出来是到德国看朋友住宿和球票的花费都是平时做家教挣的父母支援了机票钱从香港到杜塞尔多夫往返只有三千多元人民币让其他内地球迷非常羡慕\\u3000\\u3000香港妹以前并不懂乒乓球去年里约奥运会时一家人边吃饭边看电视正好电视直播乒乓球比赛从此她就成了中国队的球迷\\u3000\\u3000香港妹更让人羡慕的还是来德国不用签证不过熊老师也欣慰地说这次有了德国的签证以后去日本看比赛签证就容易多了\\u3000\\u3000这些女孩子大部分都是第一次出国以前都是在国内看比赛熊老师自称这几年甚至到过一些非常奇葩的赛场去年一个比赛在东北某城市举行由于赛场过于偏僻她在手机上点了外卖最后却被强制退单她饿着肚子看完了比赛\\u3000\\u3000女球迷们每天早出晚归看完比赛回来有时候近半夜回来之后还要互相交流当天的看球感想十几个女孩子叽叽喳喳吵得楼上一个德国老太太下来敲门让她们保持安静但她们聊着聊着仍然不自觉嗓门就大起来\\u3000\\u3000世乒赛闭幕那天晚上她们在餐馆里吃了顿散伙饭中国队拿了４个冠军但每个人的心情不一样因为她们支持的偶像并不完全相同好几人支持刘诗雯但她在女单半决赛就输了小伙伴们一起丧了很久井井在朋友圈里说\\u3000\\u3000告别的那天大家不约而同在朋友圈里晒了聚餐的照片伤感地告别\\u3000\\u3000走了杜塞尔多夫井井说\\u3000\\u3000在这呆了一个星期要走了还是有点不舍得都还没好好看看这个城市再见啦杜塞茶茶说\\u3000\\u3000熊老师最后一条朋友圈发的是丁宁和刘诗雯赢得女双冠军的照片\\u3000\\u3000懂事之前情动以后长不过一天留不住算不出流年她写道完'"
      ]
     },
     "execution_count": 66,
     "metadata": {},
     "output_type": "execute_result"
    }
   ],
   "source": [
    "strip_str(news_dataset['content'].iloc[-1])"
   ]
  },
  {
   "cell_type": "markdown",
   "metadata": {},
   "source": [
    "处理清洗数据"
   ]
  },
  {
   "cell_type": "code",
   "execution_count": 21,
   "metadata": {},
   "outputs": [],
   "source": [
    "def drop_na_rows(dataset, columns=('title', 'content')):\n",
    "    \"\"\"\n",
    "    drop na rows.\n",
    "\n",
    "    :param dataset, pandas DataFrame\n",
    "    :return drop na dataset, pandas DataFrame\n",
    "    \"\"\"\n",
    "\n",
    "    for col in columns:\n",
    "        dataset = dataset[dataset[col].notnull()]\n",
    "\n",
    "    return dataset"
   ]
  },
  {
   "cell_type": "markdown",
   "metadata": {},
   "source": [
    "输出到文件"
   ]
  },
  {
   "cell_type": "code",
   "execution_count": 124,
   "metadata": {},
   "outputs": [],
   "source": [
    "NEWS_CORPUS_OUTPUT_PATH = os.path.join(BASE_DIR, 'text_summ/datasets/news_corpus.txt')"
   ]
  },
  {
   "cell_type": "code",
   "execution_count": 125,
   "metadata": {},
   "outputs": [],
   "source": [
    "def preprocess(dataset, columns=['title', 'content']):\n",
    "    # drop na rows\n",
    "    df = drop_na_rows(news_dataset)\n",
    "\n",
    "    # extract title and content data\n",
    "    df = df.loc[:, columns]\n",
    "\n",
    "    with open(NEWS_CORPUS_OUTPUT_PATH, 'w') as f:\n",
    "        for title, content in df.values:\n",
    "            # strip string\n",
    "            title = strip_str(title)\n",
    "            content = strip_str(content)\n",
    "\n",
    "            f.write(title)\n",
    "            f.write('\\n')\n",
    "            f.write(content)\n",
    "            f.write('\\n')"
   ]
  },
  {
   "cell_type": "code",
   "execution_count": 126,
   "metadata": {},
   "outputs": [],
   "source": [
    "preprocess(news_dataset)"
   ]
  },
  {
   "cell_type": "code",
   "execution_count": 127,
   "metadata": {},
   "outputs": [
    {
     "name": "stdout",
     "output_type": "stream",
     "text": [
      "../text_summ/datasets/news_corpus.txt\r\n"
     ]
    }
   ],
   "source": [
    "!ls ../text_summ/datasets/news_corpus.txt"
   ]
  },
  {
   "cell_type": "markdown",
   "metadata": {},
   "source": [
    "分词"
   ]
  },
  {
   "cell_type": "code",
   "execution_count": 26,
   "metadata": {},
   "outputs": [],
   "source": [
    "import jieba"
   ]
  },
  {
   "cell_type": "code",
   "execution_count": 27,
   "metadata": {},
   "outputs": [],
   "source": [
    "def cut(s):\n",
    "    return list(jieba.cut(s))"
   ]
  },
  {
   "cell_type": "code",
   "execution_count": 59,
   "metadata": {},
   "outputs": [
    {
     "data": {
      "text/plain": [
       "['此外', '自', '本周', '6', '月', '12', '日起', '除', '小米', '手机']"
      ]
     },
     "execution_count": 59,
     "metadata": {},
     "output_type": "execute_result"
    }
   ],
   "source": [
    "cut(strip_str(news_dataset['content'][0]))[:10]"
   ]
  }
 ],
 "metadata": {
  "kernelspec": {
   "display_name": "Python 3",
   "language": "python",
   "name": "python3"
  },
  "language_info": {
   "codemirror_mode": {
    "name": "ipython",
    "version": 3
   },
   "file_extension": ".py",
   "mimetype": "text/x-python",
   "name": "python",
   "nbconvert_exporter": "python",
   "pygments_lexer": "ipython3",
   "version": "3.7.5"
  },
  "toc": {
   "base_numbering": 1,
   "nav_menu": {},
   "number_sections": true,
   "sideBar": true,
   "skip_h1_title": false,
   "title_cell": "Table of Contents",
   "title_sidebar": "Contents",
   "toc_cell": false,
   "toc_position": {},
   "toc_section_display": true,
   "toc_window_display": false
  }
 },
 "nbformat": 4,
 "nbformat_minor": 2
}
